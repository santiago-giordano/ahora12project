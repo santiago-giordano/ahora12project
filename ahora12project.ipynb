{
 "cells": [
  {
   "cell_type": "code",
   "execution_count": 21,
   "id": "8b2b98a2",
   "metadata": {},
   "outputs": [],
   "source": [
    "import pyodbc\n",
    "import pandas as pd"
   ]
  },
  {
   "cell_type": "code",
   "execution_count": 17,
   "id": "f69ae76c",
   "metadata": {},
   "outputs": [],
   "source": [
    "cnxn = pyodbc.connect(\"Driver={SQL Server};\"\n",
    "                      \"Server=GYOKU-PC\\SQLEXPRESS;\"\n",
    "                      \"Database=ahora12;\"\n",
    "                      \"username=GYOKU-PC\\GYOKU;\"\n",
    "                      \"password=123456\")\n"
   ]
  },
  {
   "cell_type": "code",
   "execution_count": 18,
   "id": "70efd0d8",
   "metadata": {},
   "outputs": [
    {
     "name": "stderr",
     "output_type": "stream",
     "text": [
      "C:\\Users\\GYOKU\\anaconda3\\lib\\site-packages\\pandas\\io\\sql.py:761: UserWarning: pandas only support SQLAlchemy connectable(engine/connection) ordatabase string URI or sqlite3 DBAPI2 connectionother DBAPI2 objects are not tested, please consider using SQLAlchemy\n",
      "  warnings.warn(\n"
     ]
    }
   ],
   "source": [
    "df = pd.read_sql_query('select * from opyfacttable', cnxn)"
   ]
  },
  {
   "cell_type": "code",
   "execution_count": 19,
   "id": "536cbf38",
   "metadata": {},
   "outputs": [
    {
     "data": {
      "text/html": [
       "<div>\n",
       "<style scoped>\n",
       "    .dataframe tbody tr th:only-of-type {\n",
       "        vertical-align: middle;\n",
       "    }\n",
       "\n",
       "    .dataframe tbody tr th {\n",
       "        vertical-align: top;\n",
       "    }\n",
       "\n",
       "    .dataframe thead th {\n",
       "        text-align: right;\n",
       "    }\n",
       "</style>\n",
       "<table border=\"1\" class=\"dataframe\">\n",
       "  <thead>\n",
       "    <tr style=\"text-align: right;\">\n",
       "      <th></th>\n",
       "      <th>mes_anio</th>\n",
       "      <th>provincia</th>\n",
       "      <th>rubro</th>\n",
       "      <th>operaciones</th>\n",
       "      <th>facturacion</th>\n",
       "    </tr>\n",
       "  </thead>\n",
       "  <tbody>\n",
       "    <tr>\n",
       "      <th>0</th>\n",
       "      <td>abr-2021</td>\n",
       "      <td>BUENOS AIRES</td>\n",
       "      <td>Alimentos, bebidas y productos de higiene pers...</td>\n",
       "      <td>41019.0</td>\n",
       "      <td>151236265.0</td>\n",
       "    </tr>\n",
       "    <tr>\n",
       "      <th>1</th>\n",
       "      <td>abr-2021</td>\n",
       "      <td>BUENOS AIRES</td>\n",
       "      <td>Anteojos</td>\n",
       "      <td>28070.0</td>\n",
       "      <td>236411039.0</td>\n",
       "    </tr>\n",
       "    <tr>\n",
       "      <th>2</th>\n",
       "      <td>abr-2021</td>\n",
       "      <td>BUENOS AIRES</td>\n",
       "      <td>Artefactos de iluminación</td>\n",
       "      <td>16527.0</td>\n",
       "      <td>94565561.0</td>\n",
       "    </tr>\n",
       "    <tr>\n",
       "      <th>3</th>\n",
       "      <td>abr-2021</td>\n",
       "      <td>BUENOS AIRES</td>\n",
       "      <td>Artículos de Librería</td>\n",
       "      <td>8348.0</td>\n",
       "      <td>31112542.0</td>\n",
       "    </tr>\n",
       "    <tr>\n",
       "      <th>4</th>\n",
       "      <td>abr-2021</td>\n",
       "      <td>BUENOS AIRES</td>\n",
       "      <td>Balnearios</td>\n",
       "      <td>553.0</td>\n",
       "      <td>7832591.0</td>\n",
       "    </tr>\n",
       "  </tbody>\n",
       "</table>\n",
       "</div>"
      ],
      "text/plain": [
       "   mes_anio     provincia                                              rubro  \\\n",
       "0  abr-2021  BUENOS AIRES  Alimentos, bebidas y productos de higiene pers...   \n",
       "1  abr-2021  BUENOS AIRES                                           Anteojos   \n",
       "2  abr-2021  BUENOS AIRES                          Artefactos de iluminación   \n",
       "3  abr-2021  BUENOS AIRES                              Artículos de Librería   \n",
       "4  abr-2021  BUENOS AIRES                                         Balnearios   \n",
       "\n",
       "   operaciones  facturacion  \n",
       "0      41019.0  151236265.0  \n",
       "1      28070.0  236411039.0  \n",
       "2      16527.0   94565561.0  \n",
       "3       8348.0   31112542.0  \n",
       "4        553.0    7832591.0  "
      ]
     },
     "execution_count": 19,
     "metadata": {},
     "output_type": "execute_result"
    }
   ],
   "source": [
    "df.head()"
   ]
  },
  {
   "cell_type": "code",
   "execution_count": 20,
   "id": "2cba65fa",
   "metadata": {},
   "outputs": [
    {
     "data": {
      "text/html": [
       "<div>\n",
       "<style scoped>\n",
       "    .dataframe tbody tr th:only-of-type {\n",
       "        vertical-align: middle;\n",
       "    }\n",
       "\n",
       "    .dataframe tbody tr th {\n",
       "        vertical-align: top;\n",
       "    }\n",
       "\n",
       "    .dataframe thead th {\n",
       "        text-align: right;\n",
       "    }\n",
       "</style>\n",
       "<table border=\"1\" class=\"dataframe\">\n",
       "  <thead>\n",
       "    <tr style=\"text-align: right;\">\n",
       "      <th></th>\n",
       "      <th>mes_anio</th>\n",
       "      <th>provincia</th>\n",
       "      <th>rubro</th>\n",
       "      <th>operaciones</th>\n",
       "      <th>facturacion</th>\n",
       "    </tr>\n",
       "  </thead>\n",
       "  <tbody>\n",
       "    <tr>\n",
       "      <th>7289</th>\n",
       "      <td>sep-2021</td>\n",
       "      <td>TUCUMAN</td>\n",
       "      <td>Perfumeria</td>\n",
       "      <td>1700.0</td>\n",
       "      <td>9799201.0</td>\n",
       "    </tr>\n",
       "    <tr>\n",
       "      <th>7290</th>\n",
       "      <td>sep-2021</td>\n",
       "      <td>TUCUMAN</td>\n",
       "      <td>Servicios de cuidado personal</td>\n",
       "      <td>38.0</td>\n",
       "      <td>502721.0</td>\n",
       "    </tr>\n",
       "    <tr>\n",
       "      <th>7291</th>\n",
       "      <td>sep-2021</td>\n",
       "      <td>TUCUMAN</td>\n",
       "      <td>Servicios de preparacion para el deporte</td>\n",
       "      <td>29.0</td>\n",
       "      <td>558716.0</td>\n",
       "    </tr>\n",
       "    <tr>\n",
       "      <th>7292</th>\n",
       "      <td>sep-2021</td>\n",
       "      <td>TUCUMAN</td>\n",
       "      <td>Sin clasificar</td>\n",
       "      <td>3042.0</td>\n",
       "      <td>40364648.0</td>\n",
       "    </tr>\n",
       "    <tr>\n",
       "      <th>7293</th>\n",
       "      <td>sep-2021</td>\n",
       "      <td>TUCUMAN</td>\n",
       "      <td>Turismo</td>\n",
       "      <td>187.0</td>\n",
       "      <td>4056866.0</td>\n",
       "    </tr>\n",
       "  </tbody>\n",
       "</table>\n",
       "</div>"
      ],
      "text/plain": [
       "      mes_anio provincia                                     rubro  \\\n",
       "7289  sep-2021   TUCUMAN                                Perfumeria   \n",
       "7290  sep-2021   TUCUMAN             Servicios de cuidado personal   \n",
       "7291  sep-2021   TUCUMAN  Servicios de preparacion para el deporte   \n",
       "7292  sep-2021   TUCUMAN                            Sin clasificar   \n",
       "7293  sep-2021   TUCUMAN                                   Turismo   \n",
       "\n",
       "      operaciones  facturacion  \n",
       "7289       1700.0    9799201.0  \n",
       "7290         38.0     502721.0  \n",
       "7291         29.0     558716.0  \n",
       "7292       3042.0   40364648.0  \n",
       "7293        187.0    4056866.0  "
      ]
     },
     "execution_count": 20,
     "metadata": {},
     "output_type": "execute_result"
    }
   ],
   "source": [
    "df.tail()"
   ]
  }
 ],
 "metadata": {
  "kernelspec": {
   "display_name": "Python 3 (ipykernel)",
   "language": "python",
   "name": "python3"
  },
  "language_info": {
   "codemirror_mode": {
    "name": "ipython",
    "version": 3
   },
   "file_extension": ".py",
   "mimetype": "text/x-python",
   "name": "python",
   "nbconvert_exporter": "python",
   "pygments_lexer": "ipython3",
   "version": "3.9.12"
  }
 },
 "nbformat": 4,
 "nbformat_minor": 5
}
